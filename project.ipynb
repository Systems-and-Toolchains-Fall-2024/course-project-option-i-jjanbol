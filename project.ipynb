{
 "cells": [
  {
   "cell_type": "markdown",
   "id": "47e554d6-cc6c-4ca7-a0fd-fc6135c3fa67",
   "metadata": {},
   "source": [
    "# Task I"
   ]
  },
  {
   "cell_type": "code",
   "execution_count": 1,
   "id": "a92e4fcd-6378-4b4a-b406-1c0f407ac13f",
   "metadata": {},
   "outputs": [],
   "source": [
    "#IMPORTING ALL THE LIBRARIES \n",
    "import pyspark\n",
    "from pyspark.sql import SparkSession\n",
    "from pyspark import SparkContext, SQLContext\n",
    "from pyspark.sql.types import StructType, StructField, IntegerType, FloatType, StringType, BooleanType\n",
    "from pyspark.sql.types import StructType, StructField, TimestampType, DateType, StringType\n",
    "from pyspark.sql.functions import col, trim\n",
    "from pyspark.sql.functions import unix_timestamp, current_timestamp\n",
    "from pyspark.sql.functions import lit\n",
    "from pyspark.sql.functions import when\n",
    "from pyspark.sql.functions import count, avg, first, year\n",
    "import seaborn as sb\n",
    "from pyspark.ml.feature import StringIndexer, OneHotEncoder\n",
    "from pyspark.ml import Pipeline\n",
    "from pyspark.ml.feature import VectorAssembler\n",
    "from pyspark.ml.feature import StandardScaler\n",
    "import matplotlib.pyplot as plt\n",
    "from pyspark import SparkConf, SparkContext\n",
    "from pyspark.sql.functions import monotonically_increasing_id"
   ]
  },
  {
   "cell_type": "code",
   "execution_count": 31,
   "id": "1f90e4be-0500-457b-bcb1-ce242bdc8b87",
   "metadata": {
    "scrolled": true
   },
   "outputs": [
    {
     "name": "stdout",
     "output_type": "stream",
     "text": [
      "/bin/bash: wget: command not found\n"
     ]
    }
   ],
   "source": [
    "#DOWNLOADING THE DATASET FROM GITHUB REPOSITORY\n",
    "!wget \"https://github.com/jjanbol/Test-Toolchains/raw/refs/heads/main/Archive.zip\""
   ]
  },
  {
   "cell_type": "code",
   "execution_count": 32,
   "id": "cf5ee959-aa72-4021-9ce9-ca42fa278e0b",
   "metadata": {},
   "outputs": [
    {
     "name": "stdout",
     "output_type": "stream",
     "text": [
      "unzip:  cannot find or open Archive.zip, Archive.zip.zip or Archive.zip.ZIP.\n"
     ]
    }
   ],
   "source": [
    "#UNZIPPING FOR DATA INGESTION\n",
    "!unzip -o Archive.zip"
   ]
  },
  {
   "cell_type": "code",
   "execution_count": 44,
   "id": "91dbd9b9-f28f-4d1d-b020-e16e421ae2af",
   "metadata": {},
   "outputs": [
    {
     "name": "stdout",
     "output_type": "stream",
     "text": [
      "Archive.zip           female_players_20.csv players_19.csv\n",
      "\u001b[34m__MACOSX\u001b[m\u001b[m              female_players_21.csv players_20.csv\n",
      "\u001b[34marchive\u001b[m\u001b[m               female_players_22.csv players_21.csv\n",
      "female_players_16.csv players_15.csv        players_22.csv\n",
      "female_players_17.csv players_16.csv        postgresql-42.7.4.jar\n",
      "female_players_18.csv players_17.csv        project.ipynb\n",
      "female_players_19.csv players_18.csv\n"
     ]
    }
   ],
   "source": [
    "#CHECKING THAT FILES WERE UNZIPPED CORRECTLY\n",
    "!ls"
   ]
  },
  {
   "cell_type": "code",
   "execution_count": 60,
   "id": "4740a37e-b6ca-476b-ac5a-66b381704328",
   "metadata": {},
   "outputs": [],
   "source": [
    "# INITIALIZING SPARK SESSION \n",
    "jdbc_jar_path = \"postgresql-42.7.4.jar\"\n",
    "\n",
    "appName = \"Project\"\n",
    "master = \"local\"\n",
    "\n",
    "conf = SparkConf() \\\n",
    "    .set('spark.driver.host', '127.0.0.1') \\\n",
    "    .setAppName(appName) \\\n",
    "    .setMaster(master) \\\n",
    "    .set(\"spark.jars\", jdbc_jar_path)\n",
    "\n",
    "sc = SparkContext.getOrCreate(conf=conf)\n",
    "sqlContext = SQLContext(sc)\n",
    "spark = sqlContext.sparkSession.builder.getOrCreate()"
   ]
  },
  {
   "cell_type": "code",
   "execution_count": 61,
   "id": "5c86cf38-1896-461b-89b2-aa8b815f290a",
   "metadata": {},
   "outputs": [],
   "source": [
    "#DEFINING FUNCTION TO CREATE DATAFRAMES\n",
    "\n",
    "schema = StructType([\n",
    "    StructField(\"sofifa_id\", IntegerType(), True),  \n",
    "    StructField(\"player_url\", StringType(), True),  \n",
    "    StructField(\"short_name\", StringType(), True),  \n",
    "    StructField(\"long_name\", StringType(), True),  \n",
    "    StructField(\"player_positions\", StringType(), True), \n",
    "    StructField(\"overall\", IntegerType(), True),  \n",
    "    StructField(\"potential\", IntegerType(), True),\n",
    "    StructField(\"value_eur\", IntegerType(), True),  \n",
    "    StructField(\"wage_eur\", IntegerType(), True),  \n",
    "    StructField(\"age\", IntegerType(), True),  \n",
    "    StructField(\"dob\", DateType(), True),  \n",
    "    StructField(\"height_cm\", IntegerType(), True),  \n",
    "    StructField(\"weight_kg\", IntegerType(), True),  \n",
    "    StructField(\"club_team_id\", IntegerType(), True),\n",
    "    StructField(\"club_name\", StringType(), True),  \n",
    "    StructField(\"league_name\", StringType(), True),\n",
    "    StructField(\"league_level\", IntegerType(), True), \n",
    "    StructField(\"club_position\", StringType(), True),  \n",
    "    StructField(\"club_jersey_number\", IntegerType(), True),  \n",
    "    StructField(\"club_loaned_from\", StringType(), True),  \n",
    "    StructField(\"club_joined\", DateType(), True),  \n",
    "    StructField(\"club_contract_valid_until\", DateType(), True),  \n",
    "    StructField(\"nationality_id\", IntegerType(), True),  \n",
    "    StructField(\"nationality_name\", StringType(), True), \n",
    "    StructField(\"nation_team_id\", IntegerType(), True),  \n",
    "    StructField(\"nation_position\", StringType(), True),  \n",
    "    StructField(\"nation_jersey_number\", IntegerType(), True),  \n",
    "    StructField(\"preferred_foot\", StringType(), True),  \n",
    "    StructField(\"weak_foot\", IntegerType(), True),  \n",
    "    StructField(\"skill_moves\", IntegerType(), True), \n",
    "    StructField(\"international_reputation\", IntegerType(), True),  \n",
    "    StructField(\"work_rate\", StringType(), True),  \n",
    "    StructField(\"body_type\", StringType(), True),  \n",
    "    StructField(\"real_face\", BooleanType(), True),  \n",
    "    StructField(\"release_clause_eur\", IntegerType(), True),  \n",
    "    StructField(\"player_tags\", StringType(), True),  \n",
    "    StructField(\"player_traits\", StringType(), True),  \n",
    "    StructField(\"pace\", IntegerType(), True),  \n",
    "    StructField(\"shooting\", IntegerType(), True),\n",
    "    StructField(\"passing\", IntegerType(), True), \n",
    "    StructField(\"dribbling\", IntegerType(), True),\n",
    "    StructField(\"defending\", IntegerType(), True),  \n",
    "    StructField(\"physic\", IntegerType(), True),  \n",
    "    StructField(\"attacking_crossing\", IntegerType(), True),  \n",
    "    StructField(\"attacking_finishing\", IntegerType(), True),  \n",
    "    StructField(\"attacking_heading_accuracy\", IntegerType(), True),  \n",
    "    StructField(\"attacking_short_passing\", IntegerType(), True),  \n",
    "    StructField(\"attacking_volleys\", IntegerType(), True),  \n",
    "    StructField(\"skill_dribbling\", IntegerType(), True),  \n",
    "    StructField(\"skill_curve\", IntegerType(), True),  \n",
    "    StructField(\"skill_fk_accuracy\", IntegerType(), True),  \n",
    "    StructField(\"skill_long_passing\", IntegerType(), True),  \n",
    "    StructField(\"skill_ball_control\", IntegerType(), True),  \n",
    "    StructField(\"movement_acceleration\", IntegerType(), True),  \n",
    "    StructField(\"movement_sprint_speed\", IntegerType(), True),  \n",
    "    StructField(\"movement_agility\", IntegerType(), True),  \n",
    "    StructField(\"movement_reactions\", IntegerType(), True),  \n",
    "    StructField(\"movement_balance\", IntegerType(), True),  \n",
    "    StructField(\"power_shot_power\", IntegerType(), True),  \n",
    "    StructField(\"power_jumping\", IntegerType(), True),  \n",
    "    StructField(\"power_stamina\", IntegerType(), True),  \n",
    "    StructField(\"power_strength\", IntegerType(), True), \n",
    "    StructField(\"power_long_shots\", IntegerType(), True),  \n",
    "    StructField(\"mentality_aggression\", IntegerType(), True),\n",
    "    StructField(\"mentality_interceptions\", IntegerType(), True),\n",
    "    StructField(\"mentality_positioning\", IntegerType(), True),  \n",
    "    StructField(\"mentality_vision\", IntegerType(), True),  \n",
    "    StructField(\"mentality_penalties\", IntegerType(), True),\n",
    "    StructField(\"mentality_composure\", IntegerType(), True), \n",
    "    StructField(\"defending_marking_awareness\", IntegerType(), True),  \n",
    "    StructField(\"defending_standing_tackle\", IntegerType(), True),  \n",
    "    StructField(\"defending_sliding_tackle\", IntegerType(), True),  \n",
    "    StructField(\"goalkeeping_diving\", IntegerType(), True),  \n",
    "    StructField(\"goalkeeping_handling\", IntegerType(), True),\n",
    "    StructField(\"goalkeeping_kicking\", IntegerType(), True),  \n",
    "    StructField(\"goalkeeping_positioning\", IntegerType(), True),  \n",
    "    StructField(\"goalkeeping_reflexes\", IntegerType(), True),  \n",
    "    StructField(\"goalkeeping_speed\", IntegerType(), True),  \n",
    "    StructField(\"ls\", IntegerType(), True),  \n",
    "    StructField(\"st\", IntegerType(), True),  \n",
    "    StructField(\"rs\", IntegerType(), True),  \n",
    "    StructField(\"lw\", IntegerType(), True),  \n",
    "    StructField(\"lf\", IntegerType(), True),  \n",
    "    StructField(\"cf\", IntegerType(), True),  \n",
    "    StructField(\"rf\", IntegerType(), True),  \n",
    "    StructField(\"rw\", IntegerType(), True),  \n",
    "    StructField(\"lam\", IntegerType(), True), \n",
    "    StructField(\"cam\", IntegerType(), True), \n",
    "    StructField(\"ram\", IntegerType(), True), \n",
    "    StructField(\"lm\", IntegerType(), True),  \n",
    "    StructField(\"lcm\", IntegerType(), True), \n",
    "    StructField(\"cm\", IntegerType(), True),  \n",
    "    StructField(\"rcm\", IntegerType(), True), \n",
    "    StructField(\"rm\", IntegerType(), True),  \n",
    "    StructField(\"lwb\", IntegerType(), True), \n",
    "    StructField(\"ldm\", IntegerType(), True), \n",
    "    StructField(\"cdm\", IntegerType(), True), \n",
    "    StructField(\"rdm\", IntegerType(), True), \n",
    "    StructField(\"rwb\", IntegerType(), True), \n",
    "    StructField(\"lb\", IntegerType(), True),  \n",
    "    StructField(\"lcb\", IntegerType(), True),  \n",
    "    StructField(\"cb\", IntegerType(), True),  \n",
    "    StructField(\"rcb\", IntegerType(), True), \n",
    "    StructField(\"rb\", IntegerType(), True),  \n",
    "    StructField(\"gk\", IntegerType(), True),  \n",
    "    StructField(\"player_face_url\", StringType(), True), \n",
    "    StructField(\"club_logo_url\", StringType(), True),  \n",
    "    StructField(\"club_flag_url\", StringType(), True),  \n",
    "    StructField(\"nation_logo_url\", StringType(), True),\n",
    "    StructField(\"nation_flag_url\", StringType(), True)\n",
    "])\n",
    "\n",
    "\n",
    "files = [\"female_players_16.csv\", \"female_players_17.csv\", \"female_players_18.csv\", \"female_players_19.csv\", \n",
    "         \"female_players_20.csv\", \"female_players_21.csv\", \"female_players_22.csv\", \n",
    "         \"players_15.csv\", \"players_16.csv\", \"players_17.csv\", \"players_18.csv\", \"players_19.csv\", \n",
    "         \"players_20.csv\", \"players_21.csv\", \"players_22.csv\"]\n",
    "\n",
    "def create_dataframe(csv):\n",
    "    directory = csv\n",
    "    years = [\"15\", \"16\", \"17\", \"18\", \"19\", \"20\", \"21\", \"22\"]\n",
    "    for year in years:\n",
    "        if (year in csv) and (\"female\" in csv):\n",
    "            df = spark.read.csv(directory,header=True, schema= schema)\n",
    "            df = df.withColumn('year', lit(int(\"20\"+year)))\n",
    "            df = df.withColumn('gender', lit(\"female\"))\n",
    "            return df\n",
    "        elif (year in csv) and (\"female\" not in csv):\n",
    "            df = spark.read.csv(directory,header=True, schema= schema)\n",
    "            df = df.withColumn('year', lit(int(\"20\"+year)))\n",
    "            df = df.withColumn('gender', lit(\"male\"))\n",
    "            return df\n",
    "                               \n",
    "\n",
    "#CREATING DATAFRAMES WITH YEAR AND GENDER COLUMNS\n",
    "female_players_16 = create_dataframe(\"female_players_16.csv\")\n",
    "female_players_17 = create_dataframe(\"female_players_17.csv\")\n",
    "female_players_18 = create_dataframe(\"female_players_18.csv\")\n",
    "female_players_19 = create_dataframe(\"female_players_19.csv\")\n",
    "female_players_20 = create_dataframe(\"female_players_20.csv\")\n",
    "female_players_21 = create_dataframe(\"female_players_21.csv\")\n",
    "female_players_22 = create_dataframe(\"female_players_22.csv\")\n",
    "players_15 = create_dataframe(\"players_15.csv\")\n",
    "players_16 = create_dataframe(\"players_16.csv\")\n",
    "players_17 = create_dataframe(\"players_17.csv\")\n",
    "players_18 = create_dataframe(\"players_18.csv\")\n",
    "players_19 = create_dataframe(\"players_19.csv\")\n",
    "players_20 = create_dataframe(\"players_20.csv\")\n",
    "players_21 = create_dataframe(\"players_21.csv\")\n",
    "players_22 = create_dataframe(\"players_22.csv\")\n",
    "\n",
    "\n",
    "dataframes = [female_players_16, female_players_17,female_players_18 ,female_players_19,\n",
    "              female_players_20 ,female_players_21,female_players_22,\n",
    "              players_15, players_16, players_17, players_18, players_19, players_20,\n",
    "              players_21, players_22]\n"
   ]
  },
  {
   "cell_type": "code",
   "execution_count": 62,
   "id": "c11ed2d1-cb42-4d16-adf3-8a6e04921ab7",
   "metadata": {},
   "outputs": [
    {
     "name": "stderr",
     "output_type": "stream",
     "text": [
      "                                                                                \r"
     ]
    }
   ],
   "source": [
    "# WRITING THE DATAFRAME TO GOOGLE CLOUD SQL\n",
    "db_url = \"jdbc:postgresql://34.135.160.25:5432/postgres\" \n",
    "\n",
    "db_properties = {\n",
    "    \"user\": \"postgres\",\n",
    "    \"password\": \"Tools2024\",\n",
    "    \"driver\": \"org.postgresql.Driver\"\n",
    "}\n",
    "\n",
    "\n",
    "for df in dataframes:\n",
    "    df.write.jdbc(url=db_url, table=\"fifa.players\", mode=\"append\", properties=db_properties)"
   ]
  },
  {
   "cell_type": "code",
   "execution_count": 72,
   "id": "cac1f5d3-1f64-4205-96b4-720c9dd5e4ac",
   "metadata": {},
   "outputs": [
    {
     "data": {
      "text/plain": [
       "DataFrame[unique_id: int, sofifa_id: int, player_url: string, short_name: string, long_name: string, player_positions: string, overall: int, potential: int, value_eur: int, wage_eur: int, age: int, dob: date, height_cm: int, weight_kg: int, club_team_id: int, club_name: string, league_name: string, league_level: int, club_position: string, club_jersey_number: int, club_loaned_from: string, club_joined: date, club_contract_valid_until: date, nationality_id: int, nationality_name: string, nation_team_id: int, nation_position: string, nation_jersey_number: int, preferred_foot: string, weak_foot: int, skill_moves: int, international_reputation: int, work_rate: string, body_type: string, real_face: boolean, release_clause_eur: int, player_tags: string, player_traits: string, pace: int, shooting: int, passing: int, dribbling: int, defending: int, physic: int, attacking_crossing: int, attacking_finishing: int, attacking_heading_accuracy: int, attacking_short_passing: int, attacking_volleys: int, skill_dribbling: int, skill_curve: int, skill_fk_accuracy: int, skill_long_passing: int, skill_ball_control: int, movement_acceleration: int, movement_sprint_speed: int, movement_agility: int, movement_reactions: int, movement_balance: int, power_shot_power: int, power_jumping: int, power_stamina: int, power_strength: int, power_long_shots: int, mentality_aggression: int, mentality_interceptions: int, mentality_positioning: int, mentality_vision: int, mentality_penalties: int, mentality_composure: int, defending_marking_awareness: int, defending_standing_tackle: int, defending_sliding_tackle: int, goalkeeping_diving: int, goalkeeping_handling: int, goalkeeping_kicking: int, goalkeeping_positioning: int, goalkeeping_reflexes: int, goalkeeping_speed: int, ls: int, st: int, rs: int, lw: int, lf: int, cf: int, rf: int, rw: int, lam: int, cam: int, ram: int, lm: int, lcm: int, cm: int, rcm: int, rm: int, lwb: int, ldm: int, cdm: int, rdm: int, rwb: int, lb: int, lcb: int, cb: int, rcb: int, rb: int, gk: int, player_face_url: string, club_logo_url: string, club_flag_url: string, nation_logo_url: string, nation_flag_url: string, year: int, gender: string]"
      ]
     },
     "execution_count": 72,
     "metadata": {},
     "output_type": "execute_result"
    }
   ],
   "source": [
    "# PULLING THE DATAFRAME FROM GOOGLE CLOUD SQL AS A TEST\n",
    "df = spark.read.jdbc(url=db_url, table=\"fifa.players\", properties=db_properties)\n",
    "# CACHING DATAFRAME TO MEMORY, THIS WILL IMPROVE PERFORMANCE\n",
    "df.cache()  "
   ]
  },
  {
   "cell_type": "code",
   "execution_count": 51,
   "id": "a227206a-c1ef-4799-8709-10c83b26fd82",
   "metadata": {},
   "outputs": [
    {
     "data": {
      "text/plain": [
       "['unique_id',\n",
       " 'sofifa_id',\n",
       " 'player_url',\n",
       " 'short_name',\n",
       " 'long_name',\n",
       " 'player_positions',\n",
       " 'overall',\n",
       " 'potential',\n",
       " 'value_eur',\n",
       " 'wage_eur',\n",
       " 'age',\n",
       " 'dob',\n",
       " 'height_cm',\n",
       " 'weight_kg',\n",
       " 'club_team_id',\n",
       " 'club_name',\n",
       " 'league_name',\n",
       " 'league_level',\n",
       " 'club_position',\n",
       " 'club_jersey_number',\n",
       " 'club_loaned_from',\n",
       " 'club_joined',\n",
       " 'club_contract_valid_until',\n",
       " 'nationality_id',\n",
       " 'nationality_name',\n",
       " 'nation_team_id',\n",
       " 'nation_position',\n",
       " 'nation_jersey_number',\n",
       " 'preferred_foot',\n",
       " 'weak_foot',\n",
       " 'skill_moves',\n",
       " 'international_reputation',\n",
       " 'work_rate',\n",
       " 'body_type',\n",
       " 'real_face',\n",
       " 'release_clause_eur',\n",
       " 'player_tags',\n",
       " 'player_traits',\n",
       " 'pace',\n",
       " 'shooting',\n",
       " 'passing',\n",
       " 'dribbling',\n",
       " 'defending',\n",
       " 'physic',\n",
       " 'attacking_crossing',\n",
       " 'attacking_finishing',\n",
       " 'attacking_heading_accuracy',\n",
       " 'attacking_short_passing',\n",
       " 'attacking_volleys',\n",
       " 'skill_dribbling',\n",
       " 'skill_curve',\n",
       " 'skill_fk_accuracy',\n",
       " 'skill_long_passing',\n",
       " 'skill_ball_control',\n",
       " 'movement_acceleration',\n",
       " 'movement_sprint_speed',\n",
       " 'movement_agility',\n",
       " 'movement_reactions',\n",
       " 'movement_balance',\n",
       " 'power_shot_power',\n",
       " 'power_jumping',\n",
       " 'power_stamina',\n",
       " 'power_strength',\n",
       " 'power_long_shots',\n",
       " 'mentality_aggression',\n",
       " 'mentality_interceptions',\n",
       " 'mentality_positioning',\n",
       " 'mentality_vision',\n",
       " 'mentality_penalties',\n",
       " 'mentality_composure',\n",
       " 'defending_marking_awareness',\n",
       " 'defending_standing_tackle',\n",
       " 'defending_sliding_tackle',\n",
       " 'goalkeeping_diving',\n",
       " 'goalkeeping_handling',\n",
       " 'goalkeeping_kicking',\n",
       " 'goalkeeping_positioning',\n",
       " 'goalkeeping_reflexes',\n",
       " 'goalkeeping_speed',\n",
       " 'ls',\n",
       " 'st',\n",
       " 'rs',\n",
       " 'lw',\n",
       " 'lf',\n",
       " 'cf',\n",
       " 'rf',\n",
       " 'rw',\n",
       " 'lam',\n",
       " 'cam',\n",
       " 'ram',\n",
       " 'lm',\n",
       " 'lcm',\n",
       " 'cm',\n",
       " 'rcm',\n",
       " 'rm',\n",
       " 'lwb',\n",
       " 'ldm',\n",
       " 'cdm',\n",
       " 'rdm',\n",
       " 'rwb',\n",
       " 'lb',\n",
       " 'lcb',\n",
       " 'cb',\n",
       " 'rcb',\n",
       " 'rb',\n",
       " 'gk',\n",
       " 'player_face_url',\n",
       " 'club_logo_url',\n",
       " 'club_flag_url',\n",
       " 'nation_logo_url',\n",
       " 'nation_flag_url',\n",
       " 'year',\n",
       " 'gender']"
      ]
     },
     "execution_count": 51,
     "metadata": {},
     "output_type": "execute_result"
    }
   ],
   "source": [
    "df.columns"
   ]
  },
  {
   "cell_type": "markdown",
   "id": "f7f8577a-bc28-43df-b7b7-145db2b63d66",
   "metadata": {},
   "source": [
    "# Task II"
   ]
  },
  {
   "cell_type": "code",
   "execution_count": 2,
   "id": "f87f95b4-a6ab-4541-94d7-9d8520fe937f",
   "metadata": {},
   "outputs": [
    {
     "name": "stderr",
     "output_type": "stream",
     "text": [
      "24/10/10 00:15:12 WARN Utils: Your hostname, Janbols-MacBook-Pro.local resolves to a loopback address: 127.0.0.1; using 10.0.0.126 instead (on interface en0)\n",
      "24/10/10 00:15:12 WARN Utils: Set SPARK_LOCAL_IP if you need to bind to another address\n",
      "24/10/10 00:15:12 WARN NativeCodeLoader: Unable to load native-hadoop library for your platform... using builtin-java classes where applicable\n",
      "Setting default log level to \"WARN\".\n",
      "To adjust logging level use sc.setLogLevel(newLevel). For SparkR, use setLogLevel(newLevel).\n",
      "/opt/anaconda3/envs/VENV_Apache/lib/python3.8/site-packages/pyspark/sql/context.py:113: FutureWarning: Deprecated in 3.0.0. Use SparkSession.builder.getOrCreate() instead.\n",
      "  warnings.warn(\n"
     ]
    }
   ],
   "source": [
    "# INITIALIZING SPARK SESSION \n",
    "jdbc_jar_path = \"postgresql-42.7.4.jar\"\n",
    "\n",
    "appName = \"Project\"\n",
    "master = \"local\"\n",
    "\n",
    "conf = SparkConf() \\\n",
    "    .set('spark.driver.host', '127.0.0.1') \\\n",
    "    .setAppName(appName) \\\n",
    "    .setMaster(master) \\\n",
    "    .set(\"spark.jars\", jdbc_jar_path)\n",
    "\n",
    "sc = SparkContext.getOrCreate(conf=conf)\n",
    "sqlContext = SQLContext(sc)\n",
    "spark = sqlContext.sparkSession.builder.getOrCreate()"
   ]
  },
  {
   "cell_type": "code",
   "execution_count": 3,
   "id": "71ca8058-ef1c-473d-b826-17a9d93d559a",
   "metadata": {},
   "outputs": [
    {
     "name": "stderr",
     "output_type": "stream",
     "text": [
      "24/10/10 00:15:25 WARN GarbageCollectionMetrics: To enable non-built-in garbage collector(s) List(G1 Concurrent GC), users should configure it(them) to spark.eventLog.gcMetrics.youngGenerationGarbageCollectors or spark.eventLog.gcMetrics.oldGenerationGarbageCollectors\n"
     ]
    }
   ],
   "source": [
    "#PULLING THE DATAFRAME FROM GOOGLE CLOUDSQL\n",
    "db_url = \"jdbc:postgresql://34.135.160.25:5432/postgres\"\n",
    "\n",
    "db_properties = {\n",
    "    \"user\": \"postgres\",\n",
    "    \"password\": \"Tools2024\",\n",
    "    \"driver\": \"org.postgresql.Driver\"\n",
    "}\n",
    "df = spark.read.jdbc(url=db_url, table=\"fifa.players\", properties=db_properties)"
   ]
  },
  {
   "cell_type": "code",
   "execution_count": 36,
   "id": "be4acf26-cc05-4cad-a509-e6467d7da495",
   "metadata": {},
   "outputs": [
    {
     "data": {
      "text/plain": [
       "DataFrame[unique_id: int, sofifa_id: int, player_url: string, short_name: string, long_name: string, player_positions: string, overall: int, potential: int, value_eur: int, wage_eur: int, age: int, dob: date, height_cm: int, weight_kg: int, club_team_id: int, club_name: string, league_name: string, league_level: int, club_position: string, club_jersey_number: int, club_loaned_from: string, club_joined: date, club_contract_valid_until: date, nationality_id: int, nationality_name: string, nation_team_id: int, nation_position: string, nation_jersey_number: int, preferred_foot: string, weak_foot: int, skill_moves: int, international_reputation: int, work_rate: string, body_type: string, real_face: boolean, release_clause_eur: int, player_tags: string, player_traits: string, pace: int, shooting: int, passing: int, dribbling: int, defending: int, physic: int, attacking_crossing: int, attacking_finishing: int, attacking_heading_accuracy: int, attacking_short_passing: int, attacking_volleys: int, skill_dribbling: int, skill_curve: int, skill_fk_accuracy: int, skill_long_passing: int, skill_ball_control: int, movement_acceleration: int, movement_sprint_speed: int, movement_agility: int, movement_reactions: int, movement_balance: int, power_shot_power: int, power_jumping: int, power_stamina: int, power_strength: int, power_long_shots: int, mentality_aggression: int, mentality_interceptions: int, mentality_positioning: int, mentality_vision: int, mentality_penalties: int, mentality_composure: int, defending_marking_awareness: int, defending_standing_tackle: int, defending_sliding_tackle: int, goalkeeping_diving: int, goalkeeping_handling: int, goalkeeping_kicking: int, goalkeeping_positioning: int, goalkeeping_reflexes: int, goalkeeping_speed: int, ls: int, st: int, rs: int, lw: int, lf: int, cf: int, rf: int, rw: int, lam: int, cam: int, ram: int, lm: int, lcm: int, cm: int, rcm: int, rm: int, lwb: int, ldm: int, cdm: int, rdm: int, rwb: int, lb: int, lcb: int, cb: int, rcb: int, rb: int, gk: int, player_face_url: string, club_logo_url: string, club_flag_url: string, nation_logo_url: string, nation_flag_url: string, year: int, gender: string]"
      ]
     },
     "execution_count": 36,
     "metadata": {},
     "output_type": "execute_result"
    }
   ],
   "source": [
    "#CACHING DATAFRAME TO MEMORY, THIS WILL IMPROVE PERFORMANCE\n",
    "df.cache()"
   ]
  },
  {
   "cell_type": "markdown",
   "id": "ed3edc12-c5ba-4ea1-ad60-9d9466663b2f",
   "metadata": {},
   "source": [
    "## Task 2 Q 1"
   ]
  },
  {
   "cell_type": "code",
   "execution_count": 61,
   "id": "0cb3bc5b-8412-497f-9137-b59774c92147",
   "metadata": {},
   "outputs": [],
   "source": [
    "\n",
    "\n",
    "def contract_expiry_analysis(df,year_x,y,year_z):\n",
    "\n",
    "    df_male = df.filter(df['gender'] == 'male') #only using the male player data\n",
    "\n",
    "    filtered_df = df_male.filter(df_male['year'] == year_x) # Filtering the dataframe to only include the year X\n",
    "\n",
    "    filtered_yrz_df = filtered_df.filter(year(filtered_df['club_contract_valid_until']) >= year_z)\n",
    "                                                                     #filter for contracts that end in or after year Z\n",
    "\n",
    "\n",
    "    club_ordered_df = filtered_yrz_df.groupBy(\"club_name\") #grouping the filtered dataframe by the club names\n",
    "    player_count_df = club_ordered_df.agg(count(\"*\").alias(\"player_count\")) # Counting the number of players\n",
    "\n",
    "\n",
    "    ordered_players_df = player_count_df.orderBy(\"player_count\", ascending=False) # Ordering the dataframe in descending order of player count\n",
    "    limited_ordered_df = ordered_players_df.limit(y) #limiting the output to Y Clubs\n",
    "\n",
    "\n",
    "\n",
    "    limited_ordered_df.show()\n"
   ]
  },
  {
   "cell_type": "code",
   "execution_count": 62,
   "id": "04f908ab-56bc-44b2-992e-3b9f7ce4e36d",
   "metadata": {},
   "outputs": [
    {
     "name": "stderr",
     "output_type": "stream",
     "text": [
      "[Stage 152:>                                                        (0 + 1) / 1]\r"
     ]
    },
    {
     "name": "stdout",
     "output_type": "stream",
     "text": [
      "+--------------------+------------+\n",
      "|           club_name|player_count|\n",
      "+--------------------+------------+\n",
      "|        Leeds United|          29|\n",
      "|          Sevilla FC|          29|\n",
      "|        FC Barcelona|          27|\n",
      "|       VfB Stuttgart|          27|\n",
      "|Borussia Möncheng...|          27|\n",
      "+--------------------+------------+\n",
      "\n"
     ]
    },
    {
     "name": "stderr",
     "output_type": "stream",
     "text": [
      "                                                                                \r"
     ]
    }
   ],
   "source": [
    "year_x = 2022# Enter a year X (between 2015 and 2022)\n",
    "y = 5# Enter a positive integer Y - number of clubs we want to analyze\n",
    "year_z = 2023 # Enter a year Z, contract end year\n",
    "contract_expiry_analysis(df, year_x,y,year_z)"
   ]
  },
  {
   "cell_type": "markdown",
   "id": "cb25f98b-e221-43f5-9ad1-a64c0d11e1b7",
   "metadata": {},
   "source": [
    "## Task 2 Q 2"
   ]
  },
  {
   "cell_type": "code",
   "execution_count": 25,
   "id": "d8d94e0a-2214-4a0a-a1f1-6cdadd731ee0",
   "metadata": {},
   "outputs": [],
   "source": [
    "\n",
    "  \n",
    "def average_age_analysis(df,x,year_y,find_lowest=True):\n",
    "    if x <= 0:  # Accounting for an invalid x input\n",
    "        print(\"Invalid x\")\n",
    "        return\n",
    "    \n",
    "    df_male = df.filter(df['gender'] == 'male') #only using the male player data\n",
    "    year_filtered_df = df_male.filter(df_male['year'] == year_y) # Filtering the dataframe to only include the year Y\n",
    "\n",
    "    club_grouped_df = year_filtered_df.groupBy(\"club_name\") # Grouping the data frame by the names of the clubs\n",
    "    \n",
    "    avg_age_df = club_grouped_df.agg(avg(\"age\").alias(\"average_age\")) # Aggregating the average player age, and storing it under an aliased column\n",
    "\n",
    "  \n",
    "    arranged_df = avg_age_df.orderBy(\"average_age\", ascending=find_lowest) # Arranging the average age column depending on the input condition of ascending or descending \n",
    "\n",
    "\n",
    "    limited_df = arranged_df.limit(x) #Limiting the arranged dataframe to 'X' entries\n",
    "\n",
    "    # Accounting for multiple occurrences of the same average age for the Xth ranking\n",
    "\n",
    "    last_avg_age = limited_df.tail(1)[0]['average_age'] #Finding the value of the Xth ranking\n",
    "    \n",
    "    tied_clubs_df = arranged_df.filter(arranged_df['average_age'] == last_avg_age) # Filtering the prior dataframe to include every entry that has the same value of average age\n",
    "    unordered_final_df = limited_df.union(tied_clubs_df).distinct() #union of the limited dataframe with the one consisting of the tied clubs\n",
    "\n",
    "    ordered_final_df = unordered_final_df.orderBy(\"average_age\", ascending=find_lowest) # accounting for the case in which the union function does not order the data as we wished\n",
    "\n",
    "\n",
    "    ordered_final_df.show()\n",
    "    \n",
    "\n"
   ]
  },
  {
   "cell_type": "code",
   "execution_count": 26,
   "id": "223eb181-207e-4dbf-af76-54e1dc85cf69",
   "metadata": {},
   "outputs": [
    {
     "name": "stderr",
     "output_type": "stream",
     "text": [
      "[Stage 219:>                                                        (0 + 1) / 1]\r"
     ]
    },
    {
     "name": "stdout",
     "output_type": "stream",
     "text": [
      "+--------------------+------------------+\n",
      "|           club_name|       average_age|\n",
      "+--------------------+------------------+\n",
      "|           Cruz Azul|28.071428571428573|\n",
      "|        Arsenal Tula|             28.04|\n",
      "|Podbeskidzie Biel...|27.962962962962962|\n",
      "|       Fenerbahçe SK|             27.88|\n",
      "|Leones Negros de ...| 27.79310344827586|\n",
      "+--------------------+------------------+\n",
      "\n"
     ]
    },
    {
     "name": "stderr",
     "output_type": "stream",
     "text": [
      "                                                                                \r"
     ]
    }
   ],
   "source": [
    "x = 5# Enter a positivr integer x - number of clubs we want to rank\n",
    "year_y = 2015 # Enter a year to find the data for\n",
    "find_lowest = False # 'True' if we arrange in ascending, 'False' if in descending\n",
    "average_age_analysis(df,x, year_y,find_lowest)"
   ]
  },
  {
   "cell_type": "markdown",
   "id": "b3cee031-ffef-4445-9d91-9c980172646e",
   "metadata": {},
   "source": [
    "## Task 2 Q 3"
   ]
  },
  {
   "cell_type": "code",
   "execution_count": 65,
   "id": "f5f09953-ef38-4db0-a5f5-1f8587db3b0c",
   "metadata": {},
   "outputs": [],
   "source": [
    "\n",
    "def popular_nationality(df):\n",
    "\n",
    "    df_male = df.filter(df['gender'] == 'male') #only using the male player data\n",
    "   \n",
    "    nationality_counts = df_male.groupBy(\"year\", \"nationality_name\").agg(count(\"*\").alias(\"nat_count\")) # grouping the data by year and nationality\n",
    "                                                                                                   # and counting the number of occurrences\n",
    "\n",
    "    \n",
    "    ordered_nat_df = nationality_counts.orderBy('nat_count', ascending =False) # Ordering the nationality counts in descending order\n",
    "\n",
    "    \n",
    "    final_df = ordered_nat_df.groupBy('year').agg(first('nationality_name')) # Picking out the maximum count of nationality for each year\n",
    "    final_df.show()\n",
    "    \n",
    "\n",
    "\n",
    "\n"
   ]
  },
  {
   "cell_type": "code",
   "execution_count": 66,
   "id": "e631b545-6c4e-414e-88f1-7ffd62c00812",
   "metadata": {},
   "outputs": [
    {
     "name": "stderr",
     "output_type": "stream",
     "text": [
      "[Stage 166:>                                                        (0 + 1) / 1]\r"
     ]
    },
    {
     "name": "stdout",
     "output_type": "stream",
     "text": [
      "+----+-----------------------+\n",
      "|year|first(nationality_name)|\n",
      "+----+-----------------------+\n",
      "|2015|                England|\n",
      "|2016|                England|\n",
      "|2017|                England|\n",
      "|2018|                England|\n",
      "|2019|                England|\n",
      "|2020|                England|\n",
      "|2021|                England|\n",
      "|2022|                England|\n",
      "+----+-----------------------+\n",
      "\n"
     ]
    },
    {
     "name": "stderr",
     "output_type": "stream",
     "text": [
      "                                                                                \r"
     ]
    }
   ],
   "source": [
    "popular_nationality(df)"
   ]
  },
  {
   "cell_type": "code",
   "execution_count": null,
   "id": "e4b4bbec-4406-4441-be99-efc889321b14",
   "metadata": {},
   "outputs": [],
   "source": []
  }
 ],
 "metadata": {
  "kernelspec": {
   "display_name": "Python (VENV_Apache)",
   "language": "python",
   "name": "venv_apache"
  },
  "language_info": {
   "codemirror_mode": {
    "name": "ipython",
    "version": 3
   },
   "file_extension": ".py",
   "mimetype": "text/x-python",
   "name": "python",
   "nbconvert_exporter": "python",
   "pygments_lexer": "ipython3",
   "version": "3.8.19"
  }
 },
 "nbformat": 4,
 "nbformat_minor": 5
}
